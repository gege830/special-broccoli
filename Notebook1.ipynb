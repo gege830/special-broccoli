{
    "cells": [
        {
            "cell_type": "code", 
            "execution_count": 25, 
            "metadata": {}, 
            "outputs": [
                {
                    "execution_count": 25, 
                    "metadata": {}, 
                    "output_type": "execute_result", 
                    "data": {
                        "text/plain": "[Row(GROUP='Corp IT', APPLICATION NAME='Filemover', SLA Service Tier ='Bronze', ITSR Queue Name='C-ACN-AMS-CIBIZTALK'),\n Row(GROUP='Corp IT', APPLICATION NAME='SSIS', SLA Service Tier ='Bronze', ITSR Queue Name='C-ACN-AMS-CIBIZTALK'),\n Row(GROUP='CP', APPLICATION NAME='Ecova', SLA Service Tier ='Bronze', ITSR Queue Name='C-ACN-AMS-SAPMMARIBA'),\n Row(GROUP='Distribution', APPLICATION NAME='In Control', SLA Service Tier ='Bronze', ITSR Queue Name='C-ACN-AMC-FSMD'),\n Row(GROUP='Distribution', APPLICATION NAME='Motiva AWD (Asset Management Work Database)', SLA Service Tier ='Bronze', ITSR Queue Name='C-ACN-AMC-FSMD')]"
                    }
                }
            ], 
            "source": "# The code was removed by DSX for sharing."
        }, 
        {
            "cell_type": "code", 
            "execution_count": null, 
            "metadata": {}, 
            "outputs": [], 
            "source": ""
        }
    ], 
    "nbformat": 4, 
    "metadata": {
        "kernelspec": {
            "language": "python", 
            "name": "python3-spark21", 
            "display_name": "Python 3.5 (Experimental) with Spark 2.1"
        }, 
        "language_info": {
            "pygments_lexer": "ipython3", 
            "nbconvert_exporter": "python", 
            "mimetype": "text/x-python", 
            "name": "python", 
            "version": "3.5.2", 
            "file_extension": ".py", 
            "codemirror_mode": {
                "version": 3, 
                "name": "ipython"
            }
        }
    }, 
    "nbformat_minor": 1
}